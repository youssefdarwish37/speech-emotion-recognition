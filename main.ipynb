{
  "cells": [
    {
      "cell_type": "markdown",
      "metadata": {
        "id": "view-in-github",
        "colab_type": "text"
      },
      "source": [
        "<a href=\"https://colab.research.google.com/github/youssefdarwish37/speech-emotion-recognition/blob/main/main.ipynb\" target=\"_parent\"><img src=\"https://colab.research.google.com/assets/colab-badge.svg\" alt=\"Open In Colab\"/></a>"
      ]
    },
    {
      "cell_type": "code",
      "execution_count": null,
      "metadata": {
        "colab": {
          "base_uri": "https://localhost:8080/"
        },
        "id": "LEGosp3VLAin",
        "outputId": "6b2970ce-5295-496b-b52b-79a28e33ecd3"
      },
      "outputs": [
        {
          "output_type": "stream",
          "name": "stdout",
          "text": [
            "Mounted at /content/drive\n"
          ]
        }
      ],
      "source": [
        "from google.colab import drive\n",
        "drive.mount('/content/drive')"
      ]
    },
    {
      "cell_type": "markdown",
      "metadata": {
        "id": "0L6sQfLmQQzr"
      },
      "source": [
        "to do\n",
        "\n",
        "1. confussion matrix\n",
        "2. model complexity\n",
        "3. testing , tuning\n",
        "\n",
        "\n",
        "\n",
        "\n",
        "\n",
        "\n"
      ]
    },
    {
      "cell_type": "markdown",
      "metadata": {
        "id": "Ekvl3sGOTZ2I"
      },
      "source": [
        "# **Imports**"
      ]
    },
    {
      "cell_type": "code",
      "execution_count": null,
      "metadata": {
        "id": "0Px8dpImQCxj"
      },
      "outputs": [],
      "source": [
        "import os\n",
        "import math\n",
        "import glob\n",
        "import librosa\n",
        "from librosa import display\n",
        "import numpy as np\n",
        "import matplotlib.pyplot as plt\n",
        "import IPython.display as ipd\n",
        "from sklearn.model_selection import train_test_split\n",
        "import IPython.display as ipd\n",
        "import torch\n",
        "import torch.nn as nn\n",
        "import torch.nn.functional\n",
        "import torchvision\n",
        "from torch.utils.data import Dataset, DataLoader\n",
        "import torch.nn.functional as F\n",
        "import torch.optim as optim\n",
        "from torch import nn\n",
        "from torchsummary import summary\n",
        "from sklearn.metrics import f1_score\n",
        "from sklearn.metrics import accuracy_score\n",
        "from sklearn.preprocessing import OneHotEncoder\n",
        "import torch.cuda\n",
        "torch.cuda.init()\n",
        "cuda = torch.device('cuda')"
      ]
    },
    {
      "cell_type": "markdown",
      "metadata": {
        "id": "caGln6EkaA-M"
      },
      "source": [
        "# **Globals**"
      ]
    },
    {
      "cell_type": "code",
      "execution_count": null,
      "metadata": {
        "id": "KFLjCFgYZ_a0"
      },
      "outputs": [],
      "source": [
        "#initializing all arrays used\n",
        "tracks = []\n",
        "tracks_resized = []\n",
        "tracks_split = []\n",
        "tracks_label=[]\n",
        "tracks_split_label = []\n",
        "sad_index = []\n",
        "angry_index = []\n",
        "disgust_index= []\n",
        "fear_index=[]\n",
        "happy_index=[]\n",
        "neutral_index=[]\n",
        "zcr = []\n",
        "energy = []\n",
        "msg = []\n",
        "encoder = OneHotEncoder()\n",
        "max = 0\n",
        "min = math.inf\n",
        "sample_rate = 8000"
      ]
    },
    {
      "cell_type": "markdown",
      "metadata": {
        "id": "9k_rpGEOTWG4"
      },
      "source": [
        "# **Download the Dataset and Understand the Format**"
      ]
    },
    {
      "cell_type": "code",
      "execution_count": null,
      "metadata": {
        "id": "DEYciLbRWroH"
      },
      "outputs": [],
      "source": [
        "## downloading dataset and reading using os \n",
        "def read(dir,file):\n",
        "  global max\n",
        "  global min\n",
        "  filepath = f\"{dir}/{file}\"\n",
        "  track, sample_rate = librosa.load(filepath,sr=8000,offset=0.6)\n",
        "  #librosa.display.waveplot(track,sample_rate)\n",
        "  tracks.append(track)\n",
        "  TrackName=file.split('_')\n",
        "  ## splitting the name to get each track label and assigning a number for each label of the 6\n",
        "  emotion=TrackName[2]\n",
        "  if emotion=='SAD':\n",
        "      tracks_label.append(0)\n",
        "      sad_index.append(len(tracks_label)-1)\n",
        "  elif emotion=='ANG':\n",
        "      tracks_label.append(1)\n",
        "      angry_index.append(len(tracks_label)-1)\n",
        "  elif emotion=='DIS':\n",
        "      tracks_label.append(2)\n",
        "      disgust_index.append(len(tracks_label)-1)\n",
        "\n",
        "  elif emotion=='FEA':\n",
        "      tracks_label.append(3)\n",
        "      fear_index.append(len(tracks_label)-1)\n",
        "\n",
        "  elif emotion=='HAP':\n",
        "      tracks_label.append(4)\n",
        "      happy_index.append(len(tracks_label)-1)\n",
        "\n",
        "  elif emotion=='NEU':\n",
        "      tracks_label.append(5)\n",
        "      neutral_index.append(len(tracks_label)-1)\n",
        "  ## calculating the min for padding and dividing to chunks\n",
        "\n",
        "  if np.shape(track)[0] < min:\n",
        "    min=np.shape(track)[0]\n",
        "\n",
        "dir = '/content/drive/MyDrive/Crema/'\n",
        "os.chdir(dir)\n",
        "for file in os.listdir():\n",
        "    if file.endswith(\".wav\"):\n",
        "        read(dir,file)"
      ]
    },
    {
      "cell_type": "code",
      "execution_count": null,
      "metadata": {
        "id": "fY_QuS_O1au1"
      },
      "outputs": [],
      "source": [
        "## divide each audio into chunks each of length of the smallest track \n",
        "def divide_chunks(l, n):\n",
        "      \n",
        "    # looping till length l\n",
        "    for i in range(0, len(l), n): \n",
        "        yield l[i:i + n]\n",
        "  "
      ]
    },
    {
      "cell_type": "code",
      "execution_count": null,
      "metadata": {
        "id": "7fJKdVKx1BBQ"
      },
      "outputs": [],
      "source": [
        "## assigning the labels to all the divided chunks as their main audio \n",
        "for i in range(len(tracks)):\n",
        "  if len(tracks[i]) > min:\n",
        "    for item in list(divide_chunks(tracks[i],min)):\n",
        "      tracks_split.append(item)\n",
        "    chunks = math.ceil(len(tracks[i])/min)\n",
        "    for j in range(chunks):\n",
        "      tracks_split_label.append(tracks_label[i])\n",
        "  else:\n",
        "    tracks_split.append(tracks[i])\n",
        "    tracks_split_label.append(tracks_label[i])\n"
      ]
    },
    {
      "cell_type": "code",
      "execution_count": null,
      "metadata": {
        "id": "zYUxosaXO4Sk"
      },
      "outputs": [],
      "source": [
        "#padding tracks to make it all of the same size (the last chunk)\n",
        "for track in tracks_split:\n",
        "    if len(track) < min:\n",
        "      track = np.pad(track,((0, min-len(track)),), 'constant' )\n",
        "    tracks_resized.append(track)\n",
        "          \n"
      ]
    },
    {
      "cell_type": "code",
      "execution_count": null,
      "metadata": {
        "colab": {
          "base_uri": "https://localhost:8080/"
        },
        "id": "L0IJxf_y8tRz",
        "outputId": "3e56f77c-8be2-470c-e18d-1c04823a05f6"
      },
      "outputs": [
        {
          "output_type": "stream",
          "name": "stdout",
          "text": [
            "(25207,)\n",
            "(25207,)\n"
          ]
        },
        {
          "output_type": "stream",
          "name": "stderr",
          "text": [
            "/usr/local/lib/python3.7/dist-packages/ipykernel_launcher.py:1: VisibleDeprecationWarning: Creating an ndarray from ragged nested sequences (which is a list-or-tuple of lists-or-tuples-or ndarrays with different lengths or shapes) is deprecated. If you meant to do this, you must specify 'dtype=object' when creating the ndarray.\n",
            "  \"\"\"Entry point for launching an IPython kernel.\n"
          ]
        }
      ],
      "source": [
        "print(np.array(tracks_split).shape)\n",
        "print(np.array(tracks_split_label).shape)"
      ]
    },
    {
      "cell_type": "markdown",
      "metadata": {
        "id": "jORooDceC1IR"
      },
      "source": [
        "# plot and playing audio"
      ]
    },
    {
      "cell_type": "code",
      "execution_count": null,
      "metadata": {
        "id": "FgqSC3dkEJJe"
      },
      "outputs": [],
      "source": [
        "def plot(index):\n",
        "  plt.plot(tracks_resized[sad_index[index]])\n",
        "  plt.show()\n",
        "  plt.plot(tracks_resized[angry_index[index]])\n",
        "  plt.show()\n",
        "  plt.plot(tracks_resized[disgust_index[index]])\n",
        "  plt.show()\n",
        "  plt.plot(tracks_resized[fear_index[index]])\n",
        "  plt.show()\n",
        "  plt.plot(tracks_resized[happy_index[index]])\n",
        "  plt.show()\n",
        "  plt.plot(tracks_resized[neutral_index[index]])\n",
        "  plt.show()"
      ]
    },
    {
      "cell_type": "code",
      "execution_count": null,
      "metadata": {
        "id": "8ix89MPr2xK6"
      },
      "outputs": [],
      "source": [
        "def play(audio):\n",
        "  return ipd.Audio(audio,rate=sample_rate)\n"
      ]
    },
    {
      "cell_type": "code",
      "execution_count": null,
      "metadata": {
        "colab": {
          "base_uri": "https://localhost:8080/"
        },
        "id": "wEHNKws6Wib8",
        "outputId": "7ad83184-fc9d-4585-de0a-1e8c34419638"
      },
      "outputs": [
        {
          "output_type": "display_data",
          "data": {
            "text/plain": [
              "<Figure size 432x288 with 1 Axes>"
            ],
            "image/png": "[encoded data removed]"
          },
          "metadata": {
            "needs_background": "light"
          }
        },
        {
          "output_type": "display_data",
          "data": {
            "text/plain": [
              "<Figure size 432x288 with 1 Axes>"
            ],
            "image/png": "[encoded data removed]"
          },
          "metadata": {
            "needs_background": "light"
          }
        },
        {
          "output_type": "display_data",
          "data": {
            "text/plain": [
              "<Figure size 432x288 with 1 Axes>"
            ],
            "image/png": "[encoded data removed]"
          },
          "metadata": {
            "needs_background": "light"
          }
        },
        {
          "output_type": "display_data",
          "data": {
            "text/plain": [
              "<Figure size 432x288 with 1 Axes>"
            ],
            "image/png": "[encoded data removed]"
          },
          "metadata": {
            "needs_background": "light"
          }
        },
        {
          "output_type": "display_data",
          "data": {
            "text/plain": [
              "<Figure size 432x288 with 1 Axes>"
            ],
            "image/png": "[encoded data removed]"
          },
          "metadata": {
            "needs_background": "light"
          }
        },
        {
          "output_type": "display_data",
          "data": {
            "text/plain": [
              "<Figure size 432x288 with 1 Axes>"
            ],
            "image/png": "[encoded data removed]"
          },
          "metadata": {
            "needs_background": "light"
          }
        }
      ],
      "source": [
        "plot(0)"
      ]
    },
    {
      "cell_type": "code",
      "execution_count": null,
      "metadata": {
        "id": "nF5wBRSW9Ux5",
        "colab": {
          "base_uri": "https://localhost:8080/"
        },
        "outputId": "b8361993-1b00-45d3-f351-3c67d0feb92e"
      },
      "outputs": [
        {
          "output_type": "execute_result",
          "data": {
            "text/plain": [
              "<IPython.lib.display.Audio object>"
            ],
            "text/html": [
              "\n",
              "                <audio controls=\"controls\" >\n",
              "                    <source src=\"data:audio/wav;base64,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\" type=\"audio/wav\" />\n",
              "                    Your browser does not support the audio element.\n",
              "                </audio>\n",
              "              "
            ]
          },
          "metadata": {},
          "execution_count": 12
        }
      ],
      "source": [
        "play(tracks[fear_index[0]])"
      ]
    },
    {
      "cell_type": "markdown",
      "metadata": {
        "id": "tJgPKIAuVRhH"
      },
      "source": [
        "#**Building the Model**"
      ]
    },
    {
      "cell_type": "markdown",
      "metadata": {
        "id": "cBUBATTJLz89"
      },
      "source": [
        "Splitting"
      ]
    },
    {
      "cell_type": "code",
      "execution_count": null,
      "metadata": {
        "id": "Tn3MoF90LzcQ"
      },
      "outputs": [],
      "source": [
        "## using built in function train_test_split\n",
        "def split(featureSpace,labels, testsize = 0.3):\n",
        "     return train_test_split(featureSpace,labels,test_size=testsize, random_state = 42, stratify = labels)\n"
      ]
    },
    {
      "cell_type": "code",
      "execution_count": null,
      "metadata": {
        "id": "SBLyPp5QkE27"
      },
      "outputs": [],
      "source": [
        "## first class for reflecting dataset  \n",
        "class myDataset(Dataset):\n",
        "  def __init__(self, array, label):\n",
        "    self.array = array\n",
        "    self.label = label\n",
        "\n",
        "  def __getitem__(self, index):\n",
        "    #takes index and return trainig example and its label\n",
        "\n",
        "    return torch.tensor(self.array[index], dtype=torch.float),torch.tensor(self.label[index],dtype=torch.int)\n",
        "  def __len__(self):\n",
        "    #returns number of examples\n",
        "    return len(self.array)"
      ]
    },
    {
      "cell_type": "markdown",
      "metadata": {
        "id": "Kzbc64QRP72_"
      },
      "source": [
        "#1D cnn"
      ]
    },
    {
      "cell_type": "markdown",
      "metadata": {
        "id": "xrHMh07VkOXT"
      },
      "source": [
        "**Create the Feature Space**"
      ]
    },
    {
      "cell_type": "code",
      "execution_count": null,
      "metadata": {
        "id": "aG0HRITbTcPI"
      },
      "outputs": [],
      "source": [
        "## calculating zcr and energy for the 1D CNN \n",
        "\n",
        "def feature_space1D():\n",
        "    for track in tracks_resized:\n",
        "        zcr.append(librosa.feature.zero_crossing_rate(track))\n",
        "        energy.append(librosa.feature.rms(track))\n",
        "     \n",
        "feature_space1D()\n",
        "\n"
      ]
    },
    {
      "cell_type": "code",
      "execution_count": null,
      "metadata": {
        "colab": {
          "base_uri": "https://localhost:8080/"
        },
        "id": "68hy-wOcVzXh",
        "outputId": "ac4e9d9c-571c-49e5-d186-4e486dc86d97"
      },
      "outputs": [
        {
          "output_type": "stream",
          "name": "stdout",
          "text": [
            "(25207, 5366)\n"
          ]
        }
      ],
      "source": [
        "## concatenting each track(chunk) with its zcr and energy \n",
        "concatenated=tracks_resized\n",
        "\n",
        "energy=np.reshape(np.array(energy),(np.shape(energy)[0],(np.shape(energy)[2])))\n",
        "zcr=np.reshape(np.array(zcr),(np.shape(zcr)[0],(np.shape(zcr)[2])))\n",
        "\n",
        "for i in range(np.array(tracks_resized).shape[0]):\n",
        "  concatenated[i]=np.append(np.array(concatenated[i]),np.array(energy[i]))\n",
        "  concatenated[i]=np.append(np.array(concatenated[i]),np.array(zcr[i]))\n",
        "print(np.array(concatenated).shape)"
      ]
    },
    {
      "cell_type": "code",
      "execution_count": null,
      "metadata": {
        "id": "Z3xXF8ts3_4v"
      },
      "outputs": [],
      "source": [
        "# np.save(\"/content/drive/MyDrive/aaaaa/Data2.npy\", concatenated)\n",
        "# np.save(\"/content/drive/MyDrive/aaaaa/DataLabels.npy\", tracks_label)"
      ]
    },
    {
      "cell_type": "code",
      "execution_count": null,
      "metadata": {
        "id": "wmhi9y3h4lLz"
      },
      "outputs": [],
      "source": [
        "# concatenated=np.load(\"/content/drive/MyDrive/aaaaa/Data2.npy\")\n",
        "# tracks_label=np.load(\"/content/drive/MyDrive/aaaaa/DataLabels.npy\")\n"
      ]
    },
    {
      "cell_type": "code",
      "execution_count": null,
      "metadata": {
        "id": "IFNNknvOMKWY"
      },
      "outputs": [],
      "source": [
        "## splitting the data into 70% tarining ,30% testing and 5% of the testing for validation\n",
        "fs1_train, fs1_test, label1_train, label1_test = split(concatenated,tracks_split_label)\n",
        "fs1_train,valData1,label1_train,valLabel1= split(fs1_train,label1_train,0.05)\n",
        "\n",
        "\n",
        "## reshaping the input data to be suitable for convloution \n",
        "fs1_train=np.reshape(fs1_train,(np.array(fs1_train).shape[0],1,np.array(fs1_train).shape[1]))\n",
        "fs1_test=np.reshape(fs1_test,(np.array(fs1_test).shape[0],1,np.array(fs1_test).shape[1]))\n",
        "valData1=np.reshape(valData1,(np.array(valData1).shape[0],1,np.array(valData1).shape[1]))\n"
      ]
    },
    {
      "cell_type": "code",
      "execution_count": null,
      "metadata": {
        "id": "_vioFf_DaVLr"
      },
      "outputs": [],
      "source": [
        "batch_size =128\n",
        "customDataset = myDataset(fs1_train,label1_train)\n",
        "train1_dataloader = DataLoader(customDataset,batch_size = batch_size, shuffle = True, num_workers = 0)\n",
        "\n",
        "customDataset = myDataset(fs1_test,label1_test)\n",
        "test1_dataloader = DataLoader(customDataset,batch_size = batch_size, shuffle = False, num_workers = 0)\n",
        "\n",
        "customDataset = myDataset(valData1,valLabel1)\n",
        "validation1_dataloader = DataLoader(customDataset,batch_size = batch_size, shuffle = False, num_workers = 0)"
      ]
    },
    {
      "cell_type": "code",
      "execution_count": null,
      "metadata": {
        "id": "kadH5gQKukOA"
      },
      "outputs": [],
      "source": [
        "## In a CNN, the input is a tensor(a tensor is an algebraic object that describes a multilinear relationship between sets of algebraic objects) \n",
        "## with a shape: (number of inputs) x (input height) x (input width) x (input channels)\n",
        "## Pooling layers reduce the dimensions of data by combining the outputs of neuron clusters at one layer into a single neuron in the next layer. Local pooling combines small clusters\n",
        "## Fully connected layers connect every neuron in one layer to every neuron in another layer. It is the same as a traditional multilayer perceptron neural network (MLP). The flattened matrix goes through a fully connected layer to classify the images.\n",
        "## dropout hiding some of the data to increase learning\n",
        "##\n",
        "class Model(nn.Module):\n",
        "  ## main architecture class\n",
        "  def __init__(self):\n",
        "    ## constructor:ba3rf el layers el 3aizha hena\n",
        "    super().__init__()\n",
        "        ## 6 conv blocks / dropout / flatten / linear / softmax\n",
        "    self.conv1 = nn.Sequential(\n",
        "        nn.Conv1d(\n",
        "            in_channels=1,\n",
        "            out_channels=16,\n",
        "            kernel_size=4,\n",
        "            stride=1,\n",
        "            padding=2\n",
        "        ),\n",
        "        nn.BatchNorm1d(16).to(cuda),\n",
        "        nn.ReLU(),\n",
        "        nn.MaxPool1d(kernel_size=4)\n",
        "        \n",
        "    )\n",
        "    self.conv2 = nn.Sequential(\n",
        "        nn.Conv1d(\n",
        "            in_channels=16,\n",
        "            out_channels=32,\n",
        "            kernel_size=4,\n",
        "            stride=1,\n",
        "            padding=2\n",
        "        ),\n",
        "        nn.BatchNorm1d(32).to(cuda),\n",
        "        nn.ReLU(),\n",
        "        nn.MaxPool1d(kernel_size=4)\n",
        "    )\n",
        "    self.conv3 = nn.Sequential(\n",
        "        nn.Conv1d(\n",
        "            in_channels=32,\n",
        "            out_channels=64,\n",
        "            kernel_size=4,\n",
        "            stride=1,\n",
        "            padding=2\n",
        "        ),\n",
        "        nn.BatchNorm1d(64).to(cuda),\n",
        "        nn.ReLU(),\n",
        "        nn.MaxPool1d(kernel_size=4)\n",
        "    )\n",
        "    self.conv4 = nn.Sequential(\n",
        "        nn.Conv1d(\n",
        "            in_channels=64,\n",
        "            out_channels=128,\n",
        "            kernel_size=4,\n",
        "            stride=1,\n",
        "            padding=2\n",
        "        ),\n",
        "        nn.BatchNorm1d(128).to(cuda),\n",
        "        nn.ReLU(),\n",
        "        nn.MaxPool1d(kernel_size=4)\n",
        "    )\n",
        "    self.conv5 = nn.Sequential(\n",
        "        nn.Conv1d(\n",
        "            in_channels=128,\n",
        "            out_channels=256,\n",
        "            kernel_size=4,\n",
        "            stride=1,\n",
        "            padding=2\n",
        "        ),\n",
        "        nn.BatchNorm1d(256).to(cuda),\n",
        "        nn.ReLU(),\n",
        "        nn.MaxPool1d(kernel_size=4)\n",
        "    )\n",
        "    self.conv6 = nn.Sequential(\n",
        "        nn.Conv1d(\n",
        "            in_channels=256,\n",
        "            out_channels=512,\n",
        "            kernel_size=2,\n",
        "            stride=1,\n",
        "            padding=2\n",
        "        ),\n",
        "        nn.BatchNorm1d(512).to(cuda),\n",
        "        nn.ReLU(),\n",
        "        nn.MaxPool1d(kernel_size=2)\n",
        "    )\n",
        "    # self.conv7 = nn.Sequential(\n",
        "    #     nn.Conv1d(\n",
        "    #         in_channels=512,\n",
        "    #         out_channels=1024,\n",
        "    #         kernel_size=4,\n",
        "    #         stride=1,\n",
        "    #         padding=2\n",
        "    #     ),\n",
        "    #     nn.BatchNorm1d(1024).to(cuda),\n",
        "    #     nn.ReLU(),\n",
        "    #     nn.MaxPool1d(kernel_size=4)\n",
        "    # )\n",
        "    self.flatten = nn.Flatten()\n",
        "    self.linear = nn.Linear(3072, 6)\n",
        "    self.softmax = nn.Softmax(dim=1)\n",
        "    self.dropout1 = nn.Dropout(0.3).to(cuda)\n",
        "    \n",
        "\n",
        "\n",
        "  def forward(self, input_data):\n",
        "      x = self.conv1(input_data)\n",
        "     \n",
        "      x = self.conv2(x)\n",
        "      \n",
        "      x = self.conv3(x)\n",
        "      x = self.conv4(x)\n",
        "      \n",
        "      x = self.conv5(x)\n",
        "\n",
        "      x = self.dropout1(x).to(cuda)\n",
        "      x = self.conv6(x)\n",
        "      #x = self.conv7(x)\n",
        "      x = self.dropout1(x).to(cuda)\n",
        "      x = self.flatten(x)\n",
        "      x = self.linear(x)\n",
        "      predictions = self.softmax(x) ## probabilty for classes\n",
        "      return predictions"
      ]
    },
    {
      "cell_type": "code",
      "execution_count": null,
      "metadata": {
        "id": "lrHtPiFNu4FZ"
      },
      "outputs": [],
      "source": [
        "def run_model(model, train_dataloader,validation_dataloader, optimizer,train = True):\n",
        "  if torch.cuda.is_available():\n",
        "         device = \"cuda\"\n",
        "  else:\n",
        "        device = \"cpu\"\n",
        "  model = model.cuda()\n",
        "  # print(f\"Using {device}\")\n",
        "  if train:\n",
        "    model.train()\n",
        "  pred_training = []\n",
        "  labels_training = []\n",
        "  loss = nn.CrossEntropyLoss()\n",
        "  total_loss_training = 0\n",
        "  for (data, label) in (train_dataloader):\n",
        "\n",
        "    label = label.type(torch.LongTensor) # <-(casting)\n",
        "    ## get the inputs; data is a list of [inputs, labels]\n",
        "    data, label = data.cuda(), label.cuda()\n",
        "    ## zero the parameter gradients\n",
        "    optimizer.zero_grad() \n",
        "    output = model(data)\n",
        "    loss_ = loss(output, label)\n",
        "    total_loss_training += loss_.item()\n",
        "    loss_.backward()\n",
        "    optimizer.step()\n",
        "    pred_training += output.tolist()\n",
        "    labels_training += label.tolist()\n",
        "    label = label.cpu()\n",
        "    data = data.cpu()\n",
        "    torch.cuda.empty_cache()\n",
        "\n",
        "  model.eval()\n",
        "  total_loss_validation = 0\n",
        "  pred_validation = []\n",
        "  labels_validation = []\n",
        "  for data , label in validation_dataloader:\n",
        "    label = label.type(torch.LongTensor)\n",
        "    data, label = data.cuda(), label.cuda()\n",
        "    torch.cuda.empty_cache()\n",
        "    output = model(data)\n",
        "    torch.cuda.empty_cache()\n",
        "    loss_ = loss(output, label)\n",
        "    total_loss_validation += loss_.item()\n",
        "    pred_validation += output.tolist()\n",
        "    labels_validation += label.tolist()\n",
        "    label = label.cpu()\n",
        "    data = data.cpu()\n",
        "    torch.cuda.empty_cache()\n",
        "\n",
        "  return labels_training, pred_training, total_loss_training/len(train_dataloader),labels_validation,pred_validation,total_loss_validation/len(validation_dataloader)\n",
        "\n"
      ]
    },
    {
      "cell_type": "code",
      "execution_count": null,
      "metadata": {
        "id": "nPfTu1BQCiIb"
      },
      "outputs": [],
      "source": [
        "del(tracks_resized)\n",
        "del(energy)\n",
        "del(tracks)\n",
        "del(zcr)\n",
        "del(tracks_split)\n",
        "del(tracks_split_label)"
      ]
    },
    {
      "cell_type": "code",
      "execution_count": null,
      "metadata": {
        "colab": {
          "base_uri": "https://localhost:8080/",
          "height": 380
        },
        "id": "yrMvgHBEugFw",
        "outputId": "c7a13d1a-7508-4ee9-dfcd-9bb1248d5b87"
      },
      "outputs": [
        {
          "output_type": "error",
          "ename": "RuntimeError",
          "evalue": "ignored",
          "traceback": [
            "\u001b[0;31m---------------------------------------------------------------------------\u001b[0m",
            "\u001b[0;31mRuntimeError\u001b[0m                              Traceback (most recent call last)",
            "\u001b[0;32m<ipython-input-24-e7432a0b92cc>\u001b[0m in \u001b[0;36m<module>\u001b[0;34m()\u001b[0m\n\u001b[1;32m     13\u001b[0m \u001b[0;32mfor\u001b[0m \u001b[0me\u001b[0m \u001b[0;32min\u001b[0m \u001b[0mrange\u001b[0m\u001b[0;34m(\u001b[0m\u001b[0;36m50\u001b[0m\u001b[0;34m)\u001b[0m\u001b[0;34m:\u001b[0m\u001b[0;34m\u001b[0m\u001b[0;34m\u001b[0m\u001b[0m\n\u001b[1;32m     14\u001b[0m   \u001b[0;31m# optimizer = torch.optim.SGD(model.parameters(), lr=0.0001, momentum=0.9)\u001b[0m\u001b[0;34m\u001b[0m\u001b[0;34m\u001b[0m\u001b[0;34m\u001b[0m\u001b[0m\n\u001b[0;32m---> 15\u001b[0;31m   \u001b[0mlabels_training\u001b[0m\u001b[0;34m,\u001b[0m \u001b[0mpred_training\u001b[0m\u001b[0;34m,\u001b[0m \u001b[0mloss_training\u001b[0m\u001b[0;34m,\u001b[0m\u001b[0mlabels_validation\u001b[0m\u001b[0;34m,\u001b[0m \u001b[0mpred_validation\u001b[0m\u001b[0;34m,\u001b[0m \u001b[0mloss_validation\u001b[0m  \u001b[0;34m=\u001b[0m \u001b[0mrun_model\u001b[0m\u001b[0;34m(\u001b[0m\u001b[0mmodel\u001b[0m\u001b[0;34m,\u001b[0m \u001b[0mtrain1_dataloader\u001b[0m\u001b[0;34m,\u001b[0m\u001b[0mvalidation1_dataloader\u001b[0m\u001b[0;34m,\u001b[0m\u001b[0moptimizer\u001b[0m\u001b[0;34m)\u001b[0m\u001b[0;34m\u001b[0m\u001b[0;34m\u001b[0m\u001b[0m\n\u001b[0m\u001b[1;32m     16\u001b[0m   \u001b[0;31m# labels_training, pred_training, loss_training= run_model(model, train1_dataloader,validation1_dataloader,optimizer)\u001b[0m\u001b[0;34m\u001b[0m\u001b[0;34m\u001b[0m\u001b[0;34m\u001b[0m\u001b[0m\n\u001b[1;32m     17\u001b[0m \u001b[0;34m\u001b[0m\u001b[0m\n",
            "\u001b[0;32m<ipython-input-22-974db89bb67e>\u001b[0m in \u001b[0;36mrun_model\u001b[0;34m(model, train_dataloader, validation_dataloader, optimizer, train)\u001b[0m\n\u001b[1;32m     19\u001b[0m     \u001b[0;31m## zero the parameter gradients\u001b[0m\u001b[0;34m\u001b[0m\u001b[0;34m\u001b[0m\u001b[0;34m\u001b[0m\u001b[0m\n\u001b[1;32m     20\u001b[0m     \u001b[0moptimizer\u001b[0m\u001b[0;34m.\u001b[0m\u001b[0mzero_grad\u001b[0m\u001b[0;34m(\u001b[0m\u001b[0;34m)\u001b[0m\u001b[0;34m\u001b[0m\u001b[0;34m\u001b[0m\u001b[0m\n\u001b[0;32m---> 21\u001b[0;31m     \u001b[0moutput\u001b[0m \u001b[0;34m=\u001b[0m \u001b[0mmodel\u001b[0m\u001b[0;34m(\u001b[0m\u001b[0mdata\u001b[0m\u001b[0;34m)\u001b[0m\u001b[0;34m\u001b[0m\u001b[0;34m\u001b[0m\u001b[0m\n\u001b[0m\u001b[1;32m     22\u001b[0m     \u001b[0mloss_\u001b[0m \u001b[0;34m=\u001b[0m \u001b[0mloss\u001b[0m\u001b[0;34m(\u001b[0m\u001b[0moutput\u001b[0m\u001b[0;34m,\u001b[0m \u001b[0mlabel\u001b[0m\u001b[0;34m)\u001b[0m\u001b[0;34m\u001b[0m\u001b[0;34m\u001b[0m\u001b[0m\n\u001b[1;32m     23\u001b[0m     \u001b[0mtotal_loss_training\u001b[0m \u001b[0;34m+=\u001b[0m \u001b[0mloss_\u001b[0m\u001b[0;34m.\u001b[0m\u001b[0mitem\u001b[0m\u001b[0;34m(\u001b[0m\u001b[0;34m)\u001b[0m\u001b[0;34m\u001b[0m\u001b[0;34m\u001b[0m\u001b[0m\n",
            "\u001b[0;32m/usr/local/lib/python3.7/dist-packages/torch/nn/modules/module.py\u001b[0m in \u001b[0;36m_call_impl\u001b[0;34m(self, *input, **kwargs)\u001b[0m\n\u001b[1;32m   1108\u001b[0m         if not (self._backward_hooks or self._forward_hooks or self._forward_pre_hooks or _global_backward_hooks\n\u001b[1;32m   1109\u001b[0m                 or _global_forward_hooks or _global_forward_pre_hooks):\n\u001b[0;32m-> 1110\u001b[0;31m             \u001b[0;32mreturn\u001b[0m \u001b[0mforward_call\u001b[0m\u001b[0;34m(\u001b[0m\u001b[0;34m*\u001b[0m\u001b[0minput\u001b[0m\u001b[0;34m,\u001b[0m \u001b[0;34m**\u001b[0m\u001b[0mkwargs\u001b[0m\u001b[0;34m)\u001b[0m\u001b[0;34m\u001b[0m\u001b[0;34m\u001b[0m\u001b[0m\n\u001b[0m\u001b[1;32m   1111\u001b[0m         \u001b[0;31m# Do not call functions when jit is used\u001b[0m\u001b[0;34m\u001b[0m\u001b[0;34m\u001b[0m\u001b[0;34m\u001b[0m\u001b[0m\n\u001b[1;32m   1112\u001b[0m         \u001b[0mfull_backward_hooks\u001b[0m\u001b[0;34m,\u001b[0m \u001b[0mnon_full_backward_hooks\u001b[0m \u001b[0;34m=\u001b[0m \u001b[0;34m[\u001b[0m\u001b[0;34m]\u001b[0m\u001b[0;34m,\u001b[0m \u001b[0;34m[\u001b[0m\u001b[0;34m]\u001b[0m\u001b[0;34m\u001b[0m\u001b[0;34m\u001b[0m\u001b[0m\n",
            "\u001b[0;32m<ipython-input-21-45459b4df37a>\u001b[0m in \u001b[0;36mforward\u001b[0;34m(self, input_data)\u001b[0m\n\u001b[1;32m    118\u001b[0m       \u001b[0mx\u001b[0m \u001b[0;34m=\u001b[0m \u001b[0mself\u001b[0m\u001b[0;34m.\u001b[0m\u001b[0mdropout1\u001b[0m\u001b[0;34m(\u001b[0m\u001b[0mx\u001b[0m\u001b[0;34m)\u001b[0m\u001b[0;34m.\u001b[0m\u001b[0mto\u001b[0m\u001b[0;34m(\u001b[0m\u001b[0mcuda\u001b[0m\u001b[0;34m)\u001b[0m\u001b[0;34m\u001b[0m\u001b[0;34m\u001b[0m\u001b[0m\n\u001b[1;32m    119\u001b[0m       \u001b[0mx\u001b[0m \u001b[0;34m=\u001b[0m \u001b[0mself\u001b[0m\u001b[0;34m.\u001b[0m\u001b[0mflatten\u001b[0m\u001b[0;34m(\u001b[0m\u001b[0mx\u001b[0m\u001b[0;34m)\u001b[0m\u001b[0;34m\u001b[0m\u001b[0;34m\u001b[0m\u001b[0m\n\u001b[0;32m--> 120\u001b[0;31m       \u001b[0mx\u001b[0m \u001b[0;34m=\u001b[0m \u001b[0mself\u001b[0m\u001b[0;34m.\u001b[0m\u001b[0mlinear\u001b[0m\u001b[0;34m(\u001b[0m\u001b[0mx\u001b[0m\u001b[0;34m)\u001b[0m\u001b[0;34m\u001b[0m\u001b[0;34m\u001b[0m\u001b[0m\n\u001b[0m\u001b[1;32m    121\u001b[0m       \u001b[0mpredictions\u001b[0m \u001b[0;34m=\u001b[0m \u001b[0mself\u001b[0m\u001b[0;34m.\u001b[0m\u001b[0msoftmax\u001b[0m\u001b[0;34m(\u001b[0m\u001b[0mx\u001b[0m\u001b[0;34m)\u001b[0m \u001b[0;31m## probabilty for classes\u001b[0m\u001b[0;34m\u001b[0m\u001b[0;34m\u001b[0m\u001b[0m\n\u001b[1;32m    122\u001b[0m       \u001b[0;32mreturn\u001b[0m \u001b[0mpredictions\u001b[0m\u001b[0;34m\u001b[0m\u001b[0;34m\u001b[0m\u001b[0m\n",
            "\u001b[0;32m/usr/local/lib/python3.7/dist-packages/torch/nn/modules/module.py\u001b[0m in \u001b[0;36m_call_impl\u001b[0;34m(self, *input, **kwargs)\u001b[0m\n\u001b[1;32m   1108\u001b[0m         if not (self._backward_hooks or self._forward_hooks or self._forward_pre_hooks or _global_backward_hooks\n\u001b[1;32m   1109\u001b[0m                 or _global_forward_hooks or _global_forward_pre_hooks):\n\u001b[0;32m-> 1110\u001b[0;31m             \u001b[0;32mreturn\u001b[0m \u001b[0mforward_call\u001b[0m\u001b[0;34m(\u001b[0m\u001b[0;34m*\u001b[0m\u001b[0minput\u001b[0m\u001b[0;34m,\u001b[0m \u001b[0;34m**\u001b[0m\u001b[0mkwargs\u001b[0m\u001b[0;34m)\u001b[0m\u001b[0;34m\u001b[0m\u001b[0;34m\u001b[0m\u001b[0m\n\u001b[0m\u001b[1;32m   1111\u001b[0m         \u001b[0;31m# Do not call functions when jit is used\u001b[0m\u001b[0;34m\u001b[0m\u001b[0;34m\u001b[0m\u001b[0;34m\u001b[0m\u001b[0m\n\u001b[1;32m   1112\u001b[0m         \u001b[0mfull_backward_hooks\u001b[0m\u001b[0;34m,\u001b[0m \u001b[0mnon_full_backward_hooks\u001b[0m \u001b[0;34m=\u001b[0m \u001b[0;34m[\u001b[0m\u001b[0;34m]\u001b[0m\u001b[0;34m,\u001b[0m \u001b[0;34m[\u001b[0m\u001b[0;34m]\u001b[0m\u001b[0;34m\u001b[0m\u001b[0;34m\u001b[0m\u001b[0m\n",
            "\u001b[0;32m/usr/local/lib/python3.7/dist-packages/torch/nn/modules/linear.py\u001b[0m in \u001b[0;36mforward\u001b[0;34m(self, input)\u001b[0m\n\u001b[1;32m    101\u001b[0m \u001b[0;34m\u001b[0m\u001b[0m\n\u001b[1;32m    102\u001b[0m     \u001b[0;32mdef\u001b[0m \u001b[0mforward\u001b[0m\u001b[0;34m(\u001b[0m\u001b[0mself\u001b[0m\u001b[0;34m,\u001b[0m \u001b[0minput\u001b[0m\u001b[0;34m:\u001b[0m \u001b[0mTensor\u001b[0m\u001b[0;34m)\u001b[0m \u001b[0;34m->\u001b[0m \u001b[0mTensor\u001b[0m\u001b[0;34m:\u001b[0m\u001b[0;34m\u001b[0m\u001b[0;34m\u001b[0m\u001b[0m\n\u001b[0;32m--> 103\u001b[0;31m         \u001b[0;32mreturn\u001b[0m \u001b[0mF\u001b[0m\u001b[0;34m.\u001b[0m\u001b[0mlinear\u001b[0m\u001b[0;34m(\u001b[0m\u001b[0minput\u001b[0m\u001b[0;34m,\u001b[0m \u001b[0mself\u001b[0m\u001b[0;34m.\u001b[0m\u001b[0mweight\u001b[0m\u001b[0;34m,\u001b[0m \u001b[0mself\u001b[0m\u001b[0;34m.\u001b[0m\u001b[0mbias\u001b[0m\u001b[0;34m)\u001b[0m\u001b[0;34m\u001b[0m\u001b[0;34m\u001b[0m\u001b[0m\n\u001b[0m\u001b[1;32m    104\u001b[0m \u001b[0;34m\u001b[0m\u001b[0m\n\u001b[1;32m    105\u001b[0m     \u001b[0;32mdef\u001b[0m \u001b[0mextra_repr\u001b[0m\u001b[0;34m(\u001b[0m\u001b[0mself\u001b[0m\u001b[0;34m)\u001b[0m \u001b[0;34m->\u001b[0m \u001b[0mstr\u001b[0m\u001b[0;34m:\u001b[0m\u001b[0;34m\u001b[0m\u001b[0;34m\u001b[0m\u001b[0m\n",
            "\u001b[0;31mRuntimeError\u001b[0m: mat1 and mat2 shapes cannot be multiplied (128x2048 and 3072x6)"
          ]
        }
      ],
      "source": [
        "model = Model()\n",
        "\n",
        "train_acc = []\n",
        "val_acc = []\n",
        "train_loss = []\n",
        "validation_loss=[]\n",
        "#epoch-->repitions on all data\n",
        "#lr-->learnable rate \n",
        "optimizer = torch.optim.Adam(model.parameters(),lr=0.00005,weight_decay= 0.01)\n",
        "\n",
        "scheduler = torch.optim.lr_scheduler.ReduceLROnPlateau(optimizer,'min',patience  = 3)\n",
        "\n",
        "for e in range(50):\n",
        "  # optimizer = torch.optim.SGD(model.parameters(), lr=0.0001, momentum=0.9)\n",
        "  labels_training, pred_training, loss_training,labels_validation, pred_validation, loss_validation  = run_model(model, train1_dataloader,validation1_dataloader,optimizer)\n",
        "  # labels_training, pred_training, loss_training= run_model(model, train1_dataloader,validation1_dataloader,optimizer)\n",
        "  \n",
        "  pred=[]\n",
        "  for i in pred_training:\n",
        "      pred.append((np.array(i)).argmax())\n",
        "  pred2=[]\n",
        "  for i in pred_validation:\n",
        "      pred2.append((np.array(i)).argmax())\n",
        "\n",
        "  train_acc.append(accuracy_score(labels_training,pred))\n",
        "  val_acc.append(accuracy_score(labels_validation,pred2))\n",
        "  train_loss.append((loss_training))\n",
        "  validation_loss.append((loss_validation))\n",
        "  scheduler.step(loss_validation)\n",
        "  print(\"\\nepoch =\",e+1,\"\\n\")\n",
        "  print(\"**************************************\")\n",
        "  print(\"training accuarcy:\",accuracy_score(labels_training,pred))\n",
        "  print(\"validation accuarcy:\",accuracy_score(labels_validation,pred2))\n",
        "  print(\"training f1_score:\",f1_score(labels_training,pred,average = 'weighted'))\n",
        "  print(\"validation f1_score:\",f1_score(labels_validation,pred2,average = 'weighted'))\n",
        "  print(\"training loss:\",loss_training)\n",
        "  print(\"validation loss:\",loss_validation)\n",
        "  print(\"**************************************\")\n",
        "\n",
        "\n"
      ]
    },
    {
      "cell_type": "code",
      "execution_count": null,
      "metadata": {
        "id": "-CgNDK3B-02C"
      },
      "outputs": [],
      "source": [
        "from torchvision import models\n",
        "from torchsummary import summary\n",
        "summary(model, np.array(fs1_train[0]).shape,128)"
      ]
    },
    {
      "cell_type": "code",
      "execution_count": null,
      "metadata": {
        "id": "rsmvWwjLaqOI"
      },
      "outputs": [],
      "source": [
        "from google.colab import files\n",
        "\n",
        "\n",
        "fig, ax = plt.subplots()\n",
        "plt.ylim(0,0.5)\n",
        "plt.xlim(0,50)\n",
        "ax.plot(train_acc, color = 'green', label = 'train accuracy')\n",
        "ax.plot(val_acc, color = 'red', label = 'validation accuracy')\n",
        "ax.legend(loc = 'upper left')\n",
        "ax.set(title='CNN--1D')\n",
        "plt.show()\n"
      ]
    },
    {
      "cell_type": "code",
      "source": [
        "from google.colab import files\n",
        "fig, ax = plt.subplots()\n",
        "plt.ylim(1.4,1.8)\n",
        "plt.xlim(0,50)\n",
        "ax.plot(train_loss, color = 'green', label = 'train loss')\n",
        "ax.plot(validation_loss, color = 'red', label = 'validation loss')\n",
        "ax.legend(loc = 'upper left')\n",
        "ax.set(title='CNN--1D')\n",
        "plt.show()\n",
        "\n"
      ],
      "metadata": {
        "id": "VWuV2bTMG45n"
      },
      "execution_count": null,
      "outputs": []
    },
    {
      "cell_type": "code",
      "execution_count": null,
      "metadata": {
        "id": "uxFftTMWNYBi"
      },
      "outputs": [],
      "source": [
        "from sklearn.metrics import confusion_matrix\n",
        "import seaborn as sn\n",
        "def test_model(model, test_dataloader, train = False):\n",
        "  if torch.cuda.is_available():\n",
        "         device = \"cuda\"\n",
        "  else:\n",
        "        device = \"cpu\"\n",
        "  model = model.cuda()\n",
        "  \n",
        "  # print(f\"Using {device}\")\n",
        "  # turn off autograd for testing evaluation\n",
        "\n",
        "  \n",
        "  # set the model in evaluation mode\n",
        "  model.eval()\n",
        "  loss = nn.CrossEntropyLoss()\n",
        "\n",
        "  \n",
        "  # initialize a list to store our predictions\n",
        "  preds = []\n",
        "  total_loss_test = 0\n",
        "  # loop over the test set\n",
        "  for (x, y) in test_dataloader:\n",
        "    y = y.type(torch.LongTensor)\n",
        "    x, y = x.cuda(), y.cuda()\n",
        "    # make the predictions and add them to the list\n",
        "    output = model(x)\n",
        "    preds.extend(output.argmax(axis=1).cpu().numpy())\n",
        "    loss_ = loss(output, y)\n",
        "    total_loss_test += loss_.item()\n",
        "\n",
        "    torch.cuda.empty_cache()\n",
        "  return preds, total_loss_test/len(test_dataloader)\n",
        "\n",
        "pred,loss=test_model(model,test1_dataloader)\n",
        "cm = confusion_matrix(label1_test,pred)\n",
        "plt.figure(figsize = (12, 10))\n",
        "sn.heatmap(cm, annot=True, fmt='g')\n",
        "plt.title('Confusion Matrix', size=20)\n",
        "plt.xlabel('Predicted Labels', size=14)\n",
        "plt.ylabel('Actual Labels', size=14)\n",
        "plt.show()\n",
        "print('f1 score: ', f1_score(label1_test,pred,average = 'weighted'))\n",
        "print(\"test accuarcy:\",accuracy_score(label1_test,pred))"
      ]
    },
    {
      "cell_type": "markdown",
      "metadata": {
        "id": "Y59eZcLrZ7tr"
      },
      "source": [
        "Class 3 (Fear) is the most confusing class\n"
      ]
    },
    {
      "cell_type": "markdown",
      "metadata": {
        "id": "L6acU4GNQwgJ"
      },
      "source": [
        "#2D **cnn**"
      ]
    },
    {
      "cell_type": "markdown",
      "metadata": {
        "id": "YXzw92wjkSY-"
      },
      "source": [
        "**Create the Feature Space**"
      ]
    },
    {
      "cell_type": "code",
      "source": [
        "chroma=[]\n",
        "def feature_space2D_chroma():\n",
        "    for track in tracks_resized:\n",
        "        chroma.append(librosa.feature.chroma_stft(track, sample_rate))\n",
        "    fig, ax = plt.subplots()\n",
        "    chroma_db = librosa.power_to_db(chroma[0], ref=np.max)\n",
        "    img = librosa.display.specshow(chroma_db, x_axis='time',\n",
        "                                   y_axis='mel', sr=sample_rate,\n",
        "                                   fmax=8000, ax=ax)\n",
        "    fig.colorbar(img, ax=ax, format='%+2.0f dB')\n",
        "    ax.set(title='Mel-frequency chroma')\n",
        "feature_space2D_chroma()    \n"
      ],
      "metadata": {
        "id": "m9ozX39G4wUF"
      },
      "execution_count": null,
      "outputs": []
    },
    {
      "cell_type": "code",
      "execution_count": null,
      "metadata": {
        "id": "J_9zM8W2jZvx"
      },
      "outputs": [],
      "source": [
        "msg=[]\n",
        "def feature_space2D_msg():\n",
        "    for track in tracks_resized:\n",
        "        msg.append(librosa.feature.melspectrogram(track, sample_rate))\n",
        "    fig, ax = plt.subplots()\n",
        "    msg_db = librosa.power_to_db(msg[0], ref=np.max)\n",
        "    img = librosa.display.specshow(msg_db, x_axis='time',\n",
        "                                   y_axis='mel', sr=sample_rate,\n",
        "                                   fmax=8000, ax=ax)\n",
        "    fig.colorbar(img, ax=ax, format='%+2.0f dB')\n",
        "    ax.set(title='Mel-frequency spectrogram')\n",
        "feature_space2D_msg()    \n",
        "\n",
        "\n"
      ]
    },
    {
      "cell_type": "code",
      "source": [
        "print(np.array(msg).shape)\n",
        "print(np.array(chroma).shape)\n",
        "\n",
        "\n",
        "\n",
        "\n",
        "for i in range(np.array(msg).shape[0]):\n",
        "  msg[i]=np.concatenate((np.array(msg[i]),np.array(chroma[i])),axis=0)\n",
        "\n",
        "print(np.array(msg).shape)"
      ],
      "metadata": {
        "id": "Nu0-laY75Rpt"
      },
      "execution_count": null,
      "outputs": []
    },
    {
      "cell_type": "code",
      "execution_count": null,
      "metadata": {
        "id": "8tHDKzJXdSrk"
      },
      "outputs": [],
      "source": [
        "# np.save(\"/content/drive/MyDrive/aaaaa/Data.npy\", msg)\n",
        "# np.save(\"/content/drive/MyDrive/aaaaa/DataLabels.npy\", tracks_label)"
      ]
    },
    {
      "cell_type": "code",
      "execution_count": null,
      "metadata": {
        "id": "D2To6osXdSWM"
      },
      "outputs": [],
      "source": [
        "# msg=np.load(\"/content/drive/MyDrive/aaaaa/Data.npy\")\n",
        "# tracks_label=np.load(\"/content/drive/MyDrive/aaaaa/DataLabels.npy\")"
      ]
    },
    {
      "cell_type": "code",
      "execution_count": null,
      "metadata": {
        "id": "3_X-R_zJQLsl"
      },
      "outputs": [],
      "source": [
        "\n",
        "fs2_train, fs2_test, label2_train, label2_test = split(msg,tracks_split_label)\n",
        "fs2_train,valData2,label2_train,valLabel2= split(fs2_train,label2_train,0.05)\n",
        "\n",
        "print(np.array(fs2_train).shape)\n",
        "fs2_train=np.reshape(fs2_train,(np.array(fs2_train).shape[0],1,np.array(fs2_train).shape[1],np.array(fs2_train).shape[2]))\n",
        "print(np.array(fs2_train).shape)\n",
        "print(np.array(fs2_test).shape)\n",
        "fs2_test=np.reshape(fs2_test,(np.array(fs2_test).shape[0],1,np.array(fs2_test).shape[1],np.array(fs2_test).shape[2]))\n",
        "print(np.array(fs2_test).shape)\n",
        "print(np.array(valData2).shape)\n",
        "valData2=np.reshape(valData2,(np.array(valData2).shape[0],1,np.array(valData2).shape[1],np.array(valData2).shape[2]))\n",
        "print(np.array(valData2).shape)"
      ]
    },
    {
      "cell_type": "code",
      "execution_count": null,
      "metadata": {
        "id": "2qsOQz95kI8M"
      },
      "outputs": [],
      "source": [
        "batch_size = 64\n",
        "customDataset = myDataset(fs2_train,label2_train)\n",
        "train2_dataloader = DataLoader(customDataset,batch_size = batch_size, shuffle = True, num_workers = 0)\n",
        "\n",
        "customDataset = myDataset(fs2_test,label2_test)\n",
        "test2_dataloader = DataLoader(customDataset,batch_size = batch_size, shuffle = False, num_workers = 0)\n",
        "\n",
        "customDataset = myDataset(valData2,valLabel2)\n",
        "validation2_dataloader = DataLoader(customDataset,batch_size = batch_size, shuffle = False, num_workers = 0)\n"
      ]
    },
    {
      "cell_type": "code",
      "execution_count": null,
      "metadata": {
        "id": "D4JNEZc2kLLB"
      },
      "outputs": [],
      "source": [
        "class Model(nn.Module):\n",
        "  #main architecture class\n",
        "  def __init__(self):\n",
        "      #constructor:ba3rf el layers el 3aizha hena\n",
        "    super(Model,self).__init__()\n",
        "        # 4 conv blocks / flatten / linear / softmax\n",
        "    self.conv1 = nn.Sequential(\n",
        "        nn.Conv2d(\n",
        "            in_channels=1,\n",
        "            out_channels=256,\n",
        "            kernel_size=5,\n",
        "            stride=1,\n",
        "            padding=2\n",
        "        ),\n",
        "        nn.BatchNorm2d(256).to(cuda),\n",
        "        nn.ReLU(),\n",
        "        nn.MaxPool2d(kernel_size=2,stride=1)\n",
        "        \n",
        "    )\n",
        "    self.conv2 = nn.Sequential(\n",
        "        nn.Conv2d(\n",
        "            in_channels=256,\n",
        "            out_channels=128,\n",
        "            kernel_size=3,\n",
        "            stride=1,\n",
        "            padding=2\n",
        "        ),\n",
        "        nn.BatchNorm2d(128).to(cuda),\n",
        "        nn.ReLU(),\n",
        "        nn.MaxPool2d(kernel_size=3,stride=3)\n",
        "    )\n",
        "    self.conv3 = nn.Sequential(\n",
        "        nn.Conv2d(\n",
        "            in_channels=128,\n",
        "            out_channels=64,\n",
        "            kernel_size=3,\n",
        "            stride=1,\n",
        "            padding=2\n",
        "        ),\n",
        "        nn.BatchNorm2d(64).to(cuda),\n",
        "        nn.ReLU(),\n",
        "        nn.MaxPool2d(kernel_size=3,stride=2)\n",
        "    )\n",
        "    self.conv4 = nn.Sequential(\n",
        "        nn.Conv2d(\n",
        "            in_channels=64,\n",
        "            out_channels=64,\n",
        "            kernel_size=3,\n",
        "            stride=1,\n",
        "            padding=2\n",
        "        ),\n",
        "        nn.BatchNorm2d(64).to(cuda),\n",
        "        nn.ReLU(),\n",
        "        nn.MaxPool2d(kernel_size=2,stride=1)\n",
        "    )\n",
        "\n",
        "\n",
        "    self.flatten = nn.Flatten()\n",
        "    self.linear = nn.Linear(4800, 18)\n",
        "    self.linear2 = nn.Linear(18, 6)\n",
        "    self.softmax = nn.Softmax(dim=1)\n",
        "    self.dropout1 = nn.Dropout(0.5).to(cuda)\n",
        "\n",
        "  def forward(self, input_data):\n",
        "      x = self.conv1(input_data)\n",
        "      x = self.dropout1(x).to(cuda)\n",
        "      x = self.conv2(x)\n",
        " \n",
        "      x = self.conv3(x)\n",
        "      x = self.dropout1(x).to(cuda) \n",
        "\n",
        "      x = self.conv4(x)\n",
        "\n",
        "   \n",
        "      x = self.flatten(x)\n",
        "      x = self.linear(x) \n",
        "      x = self.dropout1(x).to(cuda)    \n",
        "      logits = self.linear2(x)\n",
        "      \n",
        "      predictions = self.softmax(logits)\n",
        "      return predictions"
      ]
    },
    {
      "cell_type": "code",
      "execution_count": null,
      "metadata": {
        "id": "dyTUcj8lwIJe"
      },
      "outputs": [],
      "source": [
        "def run_model(model, train_dataloader,validation_dataloader, optimizer,train = True):\n",
        "  if torch.cuda.is_available():\n",
        "         device = \"cuda\"\n",
        "  else:\n",
        "        device = \"cpu\"\n",
        "  model = model.cuda()\n",
        "  # print(f\"Using {device}\")\n",
        "  if train:\n",
        "    model.train()\n",
        "  pred_training = []\n",
        "  labels_training = []\n",
        "  loss = nn.CrossEntropyLoss()\n",
        "  total_loss_training = 0\n",
        "  for (data, label) in train_dataloader:\n",
        "    label = label.type(torch.LongTensor) # <-(casting)\n",
        "    data, label = data.cuda(), label.cuda()\n",
        "    optimizer.zero_grad()\n",
        "    output = model(data)\n",
        "    loss_ = loss(output, label)\n",
        "    total_loss_training += loss_.item()\n",
        "    loss_.backward()\n",
        "    optimizer.step()\n",
        "    pred_training += output.tolist()\n",
        "    labels_training += label.tolist()\n",
        "    label = label.cpu()\n",
        "    data = data.cpu()\n",
        "    torch.cuda.empty_cache()\n",
        "\n",
        "  model.eval()\n",
        "  total_loss_validation = 0\n",
        "  pred_validation = []\n",
        "  labels_validation = []\n",
        "  for data , label in validation_dataloader:\n",
        "    label = label.type(torch.LongTensor)\n",
        "    data, label = data.cuda(), label.cuda()\n",
        "    output = model(data)\n",
        "    loss_ = loss(output, label)\n",
        "    total_loss_validation += loss_.item()\n",
        "    pred_validation += output.tolist()\n",
        "    labels_validation += label.tolist()\n",
        "    label = label.cpu()\n",
        "    data = data.cpu()\n",
        "    torch.cuda.empty_cache()\n",
        "  return labels_training, pred_training, total_loss_training/len(train_dataloader),labels_validation,pred_validation,total_loss_validation/len(validation_dataloader)\n"
      ]
    },
    {
      "cell_type": "code",
      "execution_count": null,
      "metadata": {
        "id": "1QZ00RVS0Z--"
      },
      "outputs": [],
      "source": [
        "model = Model()\n",
        "#epoch-->repitions on all data\n",
        "epoch  = 50\n",
        "train_acc = []\n",
        "val_acc = []\n",
        "train_loss = []\n",
        "validation_loss=[]\n",
        "optimizer = torch.optim.Adam(model.parameters(),lr=0.0001)\n",
        "\n",
        "scheduler = torch.optim.lr_scheduler.ReduceLROnPlateau(optimizer,'min',patience  = 3)\n",
        "\n",
        "for e in range(epoch):\n",
        "\n",
        "  labels_training, pred_training, loss_training,labels_validation, pred_validation, loss_validation = run_model(model, train2_dataloader,validation2_dataloader,optimizer,scheduler)\n",
        "  pred=[]\n",
        "  for i in pred_training:\n",
        "      pred.append((np.array(i)).argmax())\n",
        "  pred2=[]\n",
        "  for i in pred_validation:\n",
        "      pred2.append((np.array(i)).argmax())\n",
        "  train_acc.append(accuracy_score(labels_training,pred))\n",
        "  val_acc.append(accuracy_score(labels_validation,pred2))\n",
        "  train_loss.append((loss_training))\n",
        "  validation_loss.append((loss_validation))\n",
        "\n",
        "  scheduler.step(loss_validation)\n",
        "  print(\"\\nepoch=\",e+1,\"\\n\")\n",
        "  print(\"**************************************\")\n",
        "  print(\"training accuarcy:\",accuracy_score(labels_training,pred))\n",
        "  print(\"validation accuarcy:\",accuracy_score(labels_validation,pred2))\n",
        "  print(\"training f1_score:\",f1_score(labels_training,pred,average = 'weighted'))\n",
        "  print(\"validation f1_score:\",f1_score(labels_validation,pred2,average = 'weighted'))\n",
        "  print(\"training loss:\",loss_training)\n",
        "  print(\"validation loss:\",loss_validation)\n",
        "  print(\"**************************************\")\n"
      ]
    },
    {
      "cell_type": "code",
      "execution_count": null,
      "metadata": {
        "id": "J_AG8ZNOAHSB"
      },
      "outputs": [],
      "source": [
        "from torchvision import models\n",
        "from torchsummary import summary\n",
        "summary(model, np.array(fs2_train[0]).shape,128)"
      ]
    },
    {
      "cell_type": "code",
      "execution_count": null,
      "metadata": {
        "id": "sl4aob63Vj18"
      },
      "outputs": [],
      "source": [
        "from sklearn.metrics import confusion_matrix\n",
        "import seaborn as sn\n",
        "def test_model(model, test_dataloader, train = False):\n",
        "  if torch.cuda.is_available():\n",
        "         device = \"cuda\"\n",
        "  else:\n",
        "        device = \"cpu\"\n",
        "  model = model.cuda()\n",
        "  \n",
        "  # print(f\"Using {device}\")\n",
        "  # turn off autograd for testing evaluation\n",
        "\n",
        "  \n",
        "  # set the model in evaluation mode\n",
        "  model.eval()\n",
        "  loss = nn.CrossEntropyLoss()\n",
        "\n",
        "  \n",
        "  # initialize a list to store our predictions\n",
        "  preds = []\n",
        "  total_loss_test = 0\n",
        "  # loop over the test set\n",
        "  for (x, y) in test_dataloader:\n",
        "    y = y.type(torch.LongTensor)\n",
        "    x, y = x.cuda(), y.cuda()\n",
        "    # make the predictions and add them to the list\n",
        "    output = model(x)\n",
        "    preds.extend(output.argmax(axis=1).cpu().numpy())\n",
        "    loss_ = loss(output, y)\n",
        "    total_loss_test += loss_.item()\n",
        "\n",
        "    torch.cuda.empty_cache()\n",
        "  return preds, total_loss_test/len(test_dataloader)\n",
        "\n",
        "pred,loss=test_model(model,test2_dataloader)\n",
        "cm = confusion_matrix(label2_test,pred)\n",
        "plt.figure(figsize = (12, 10))\n",
        "sn.heatmap(cm, annot=True, fmt='g')\n",
        "\n",
        "plt.title('Confusion Matrix', size=20)\n",
        "plt.xlabel('Predicted Labels', size=14)\n",
        "plt.ylabel('Actual Labels', size=14)\n",
        "plt.show()\n",
        "\n",
        "print('f1 score: ', f1_score(label2_test,pred,average = 'weighted'))\n",
        "print(\"test accuarcy:\",accuracy_score(label2_test,pred))"
      ]
    },
    {
      "cell_type": "code",
      "execution_count": null,
      "metadata": {
        "id": "iqG9Sr9eVITd"
      },
      "outputs": [],
      "source": [
        "from google.colab import files\n",
        "fig, ax = plt.subplots()\n",
        "plt.ylim(0,0.5)\n",
        "plt.xlim(0,50)\n",
        "ax.plot(train_acc, color = 'green', label = 'train accuracy')\n",
        "ax.plot(val_acc, color = 'red', label = 'validation accuracy')\n",
        "ax.legend(loc = 'upper left')\n",
        "ax.set(title='CNN--2D')\n",
        "plt.show()\n",
        "\n"
      ]
    },
    {
      "cell_type": "code",
      "source": [
        "from google.colab import files\n",
        "fig, ax = plt.subplots()\n",
        "plt.ylim(1.6,1.9)\n",
        "plt.xlim(0,50)\n",
        "ax.plot(train_loss, color = 'green', label = 'train loss')\n",
        "ax.plot(validation_loss, color = 'red', label = 'validation loss')\n",
        "ax.legend(loc = 'upper left')\n",
        "ax.set(title='CNN--2D')\n",
        "plt.show()\n",
        "\n"
      ],
      "metadata": {
        "id": "WF0pYVPvGyZR"
      },
      "execution_count": null,
      "outputs": []
    },
    {
      "cell_type": "code",
      "execution_count": null,
      "metadata": {
        "id": "77kyBRWBJK3I"
      },
      "outputs": [],
      "source": [
        "model = model.cpu()\n"
      ]
    },
    {
      "cell_type": "code",
      "execution_count": null,
      "metadata": {
        "id": "Fz633A1SPHga"
      },
      "outputs": [],
      "source": [
        "torch.cuda.empty_cache()"
      ]
    },
    {
      "cell_type": "markdown",
      "metadata": {
        "id": "Qx40UFVFQBQW"
      },
      "source": [
        "# trash"
      ]
    },
    {
      "cell_type": "code",
      "execution_count": null,
      "metadata": {
        "id": "13eSoWg3yYgw"
      },
      "outputs": [],
      "source": [
        "# print(f1_score(label1_test.argmax(axis=1), predictions.argmax(axis=1),average = 'weighted'))\n",
        "# print(accuracy_score(label1_test.argmax(axis=1), predictions.argmax(axis=1)))\n",
        "\n"
      ]
    },
    {
      "cell_type": "code",
      "execution_count": null,
      "metadata": {
        "id": "6X6oWfgux0jb"
      },
      "outputs": [],
      "source": [
        "# model=prepare_model_1D()\n",
        "# fs1_train=np.reshape(fs1_train,(np.shape(fs1_train)[0],157,1))\n",
        "# fs1_train = np.array(fs1_train)\n",
        "# fs1_test=np.reshape(fs1_test,(np.shape(fs1_test)[0],157,1))\n",
        "# fs1_test = np.array(fs1_test)\n",
        "# label1_train = np.array(label1_train)\n",
        "# valData1=np.reshape(valData1,(np.shape(valData1)[0],157,1))\n",
        "# valData1 = np.array(valData1)\n",
        "# valLabel1 = np.array(valLabel1)\n",
        "# #print(fs1_train)\n",
        "# #print(label1_train)\n",
        "# model.fit(fs1_train,label1_train, validation_data=(valData1,valLabel1), epochs=100, verbose=2,batch_size=32)\n",
        "# predictions = model.predict(fs1_test, steps=1, verbose=0)"
      ]
    },
    {
      "cell_type": "code",
      "execution_count": null,
      "metadata": {
        "id": "bnYnVl8GxXnf"
      },
      "outputs": [],
      "source": [
        "# def run_model(model, dataloader,train = True):\n",
        "#   for epoch in range(2):  # loop over the dataset multiple times\n",
        "#       pred = []\n",
        "#       labels = []\n",
        "#       loss = nn.CrossEntropyLoss()\n",
        "      \n",
        "#       scheduler = torch.optim.lr_scheduler.ReduceLROnPlateau(optimizer, patience = 5, factor =.3, threshold = 1e-4)\n",
        "#       running_loss = 0.0\n",
        "#       for i, data in enumerate(dataloader, 0):\n",
        "#           # get the inputs; data is a list of [inputs, labels]\n",
        "#           inputs, labels = data\n",
        "\n",
        "#           # zero the parameter gradients\n",
        "#           optimizer.zero_grad()\n",
        "\n",
        "#           # forward + backward + optimize\n",
        "#           outputs = model(inputs)\n",
        "#           loss_ = loss(outputs, labels)\n",
        "#           loss.backward()\n",
        "#           optimizer.step()\n",
        "\n",
        "#           # print statistics\n",
        "#           running_loss += loss.item()\n",
        "#           if i % 2000 == 1999:    # print every 2000 mini-batches\n",
        "#               print(f'[{epoch + 1}, {i + 1:5d}] loss: {running_loss / 2000:.3f}')\n",
        "#               running_loss = 0.0\n",
        "\n",
        "#   print('Finished Training')\n",
        "#   return labels, pred, running_loss\n",
        "\n"
      ]
    },
    {
      "cell_type": "code",
      "execution_count": null,
      "metadata": {
        "id": "IRzN4qvyaKI-"
      },
      "outputs": [],
      "source": [
        "# model=prepare_model_2D()\n",
        "# fs2_train=np.reshape(fs2_train,(np.shape(fs2_train)[0],157,1))\n",
        "# fs2_train = np.array(fs2_train)\n",
        "# fs2_test=np.reshape(fs2_test,(np.shape(fs2_test)[0],157,1))\n",
        "# fs2_test = np.array(fs2_test)\n",
        "# label2_train = np.array(label2_train)\n",
        "# valData2=np.reshape(valData2,(np.shape(valData2)[0],157,1))\n",
        "# valData2 = np.array(valData2)\n",
        "# valLabel2 = np.array(valLabel2)\n",
        "# #print(fs1_train)\n",
        "# #print(label1_train)\n",
        "# model.fit(fs2_train,label2_train, validation_data=(valData2,valLabel2), epochs=100, verbose=2,batch_size=32)\n",
        "# predictions = model.predict(fs2_test, steps=1, verbose=0)"
      ]
    },
    {
      "cell_type": "code",
      "execution_count": null,
      "metadata": {
        "id": "EQ1T7zfQwd36"
      },
      "outputs": [],
      "source": [
        "#####another 1D model\n",
        "# class Model(nn.Module):\n",
        "#   #main architecture class\n",
        "#   def __init__(self):\n",
        "#       #constructor:ba3rf el layers el 3aizha hena\n",
        "#       super(Model, self).__init__()\n",
        "#       #4 conv blocks \n",
        "#       self.conv1 = nn.Sequential(\n",
        "#           nn.Conv1d(in_channels=1,out_channels=256,kernel_size=5,stride=1),\n",
        "#           nn.ReLU(),\n",
        "#           nn.MaxPool1d(kernel_size=5,stride=2)\n",
        "#         )\n",
        "#       self.conv2 = nn.Sequential(\n",
        "#           nn.Conv1d(in_channels=256,out_channels=128,kernel_size=5,stride=1),\n",
        "#           nn.ReLU(),\n",
        "#           nn.MaxPool1d(kernel_size=5,stride=2)\n",
        "#         )\n",
        "#       self.conv3 = nn.Sequential(\n",
        "#           nn.Conv1d(in_channels=128,out_channels=64,kernel_size=5,stride=1),\n",
        "#           nn.ReLU(),\n",
        "#           nn.MaxPool1d(kernel_size=5,stride=2)\n",
        "#         )\n",
        "#       self.conv4 = nn.Sequential(\n",
        "#           nn.Conv1d(in_channels=64,out_channels=32,kernel_size=5,stride=1),\n",
        "#           nn.ReLU(),\n",
        "#           nn.MaxPool1d(kernel_size=5,stride=2)\n",
        "#       )\n",
        "#       self.flatten = nn.Flatten()\n",
        "#       #dropout beyzwd el trainig bey5be hetat\n",
        "#       self.dropout1 = nn.Dropout(0.2)\n",
        "#       self.dropout2 = nn.Dropout(0.3)\n",
        "#       #howa beyhaded el input lama yedek error\n",
        "#       self.fc1 = nn.Linear(14816,2)\n",
        "#       self.fc2 = nn.Linear(2, 6)\n",
        "\n",
        "#   def forward(self, x):\n",
        "#     #el model haymshy ezay\n",
        "#       x = self.conv1(x)\n",
        "\n",
        "#       x = self.conv2(x)\n",
        "\n",
        "#       x = self.conv3(x)\n",
        "\n",
        "#       x = self.dropout1(x)\n",
        "      \n",
        "#       x = self.conv4(x)\n",
        "\n",
        "#       x = self.dropout2(x)\n",
        "\n",
        "#       x = self.flatten(x)\n",
        "#       # x = F.relu(x)\n",
        "\n",
        "#       x = self.fc1(x)\n",
        "     \n",
        "#       x = self.fc2(x)\n",
        "#       return F.log_softmax(x, dim = 1)"
      ]
    }
  ],
  "metadata": {
    "accelerator": "GPU",
    "colab": {
      "collapsed_sections": [
        "Ekvl3sGOTZ2I",
        "caGln6EkaA-M",
        "9k_rpGEOTWG4",
        "jORooDceC1IR",
        "tJgPKIAuVRhH",
        "Qx40UFVFQBQW"
      ],
      "name": "Assignment 3.ipynb",
      "provenance": [],
      "include_colab_link": true
    },
    "kernelspec": {
      "display_name": "Python 3",
      "name": "python3"
    },
    "language_info": {
      "name": "python"
    }
  },
  "nbformat": 4,
  "nbformat_minor": 0
}